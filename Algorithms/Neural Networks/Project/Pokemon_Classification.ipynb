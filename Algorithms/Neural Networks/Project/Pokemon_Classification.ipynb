{
 "cells": [
  {
   "cell_type": "code",
   "execution_count": 5,
   "metadata": {},
   "outputs": [],
   "source": [
    "import numpy as np\n",
    "import pandas as pd\n",
    "import matplotlib.pyplot as plt\n",
    "\n",
    "import os "
   ]
  },
  {
   "cell_type": "code",
   "execution_count": 1,
   "metadata": {},
   "outputs": [
    {
     "name": "stdout",
     "output_type": "stream",
     "text": [
      "/bin/bash: wget: command not found\n"
     ]
    }
   ],
   "source": [
    "# !wget https://www.dropbox.com/sh/s9r1av3m4eatd3y/AAA8zYti5b5tnyKfcah2Reaja -O data"
   ]
  },
  {
   "cell_type": "code",
   "execution_count": 3,
   "metadata": {},
   "outputs": [
    {
     "name": "stdout",
     "output_type": "stream",
     "text": [
      "Archive:  data.zip\n",
      "warning:  stripped absolute path spec from /\n",
      "mapname:  conversion of  failed\n",
      "   creating: images/Test/\n",
      "   creating: images/Train/\n",
      "   creating: images/Test/Pikachu/\n",
      "   creating: images/Train/Pikachu/\n",
      "   creating: images/Test/Bulbasaur/\n",
      "   creating: images/Train/Bulbasaur/\n",
      "   creating: images/Test/Charmander/\n",
      "   creating: images/Train/Charmander/\n",
      " extracting: images/Train/Pikachu/345.jpg  \n",
      " extracting: images/Train/Pikachu/335.jpg  \n",
      " extracting: images/Train/Pikachu/299.jpg  \n",
      " extracting: images/Train/Pikachu/396.jpg  \n",
      " extracting: images/Train/Pikachu/350.jpg  \n",
      " extracting: images/Train/Pikachu/308.jpg  \n",
      " extracting: images/Train/Pikachu/346.jpg  \n",
      " extracting: images/Train/Pikachu/355.jpg  \n",
      " extracting: images/Train/Pikachu/353.jpg  \n",
      " extracting: images/Train/Pikachu/390.jpg  \n",
      " extracting: images/Train/Pikachu/319.jpg  \n",
      " extracting: images/Train/Pikachu/386.jpg  \n",
      " extracting: images/Train/Pikachu/327.jpg  \n",
      " extracting: images/Train/Pikachu/314.jpg  \n",
      " extracting: images/Train/Pikachu/303.jpg  \n",
      " extracting: images/Train/Pikachu/341.jpg  \n",
      " extracting: images/Train/Pikachu/298.jpg  \n",
      " extracting: images/Train/Pikachu/389.jpg  \n",
      " extracting: images/Train/Pikachu/382.jpg  \n",
      " extracting: images/Train/Pikachu/306.jpg  \n",
      " extracting: images/Train/Pikachu/361.jpg  \n",
      " extracting: images/Train/Pikachu/362.jpg  \n",
      " extracting: images/Train/Pikachu/372.jpg  \n",
      " extracting: images/Train/Pikachu/312.jpg  \n",
      " extracting: images/Train/Pikachu/384.jpg  \n",
      " extracting: images/Train/Pikachu/373.jpg  \n",
      " extracting: images/Train/Pikachu/352.jpg  \n",
      " extracting: images/Train/Pikachu/368.jpg  \n",
      " extracting: images/Train/Pikachu/307.jpg  \n",
      " extracting: images/Train/Pikachu/343.jpg  \n",
      " extracting: images/Train/Pikachu/310.jpg  \n",
      " extracting: images/Train/Pikachu/363.jpg  \n",
      " extracting: images/Train/Pikachu/320.jpg  \n",
      " extracting: images/Train/Pikachu/336.jpg  \n",
      " extracting: images/Train/Pikachu/394.jpg  \n",
      " extracting: images/Train/Pikachu/380.jpg  \n",
      " extracting: images/Train/Pikachu/317.jpg  \n",
      " extracting: images/Train/Pikachu/381.jpg  \n",
      " extracting: images/Train/Pikachu/322.jpg  \n",
      " extracting: images/Train/Pikachu/379.jpg  \n",
      " extracting: images/Train/Pikachu/315.jpg  \n",
      " extracting: images/Train/Pikachu/369.jpg  \n",
      " extracting: images/Train/Pikachu/330.jpg  \n",
      " extracting: images/Train/Pikachu/357.jpg  \n",
      " extracting: images/Train/Pikachu/383.jpg  \n",
      " extracting: images/Train/Pikachu/323.jpg  \n",
      " extracting: images/Train/Pikachu/364.jpg  \n",
      " extracting: images/Train/Pikachu/296.jpg  \n",
      " extracting: images/Train/Pikachu/356.jpg  \n",
      " extracting: images/Train/Pikachu/311.jpg  \n",
      " extracting: images/Train/Pikachu/385.jpg  \n",
      " extracting: images/Train/Pikachu/378.jpg  \n",
      " extracting: images/Train/Pikachu/338.jpg  \n",
      " extracting: images/Train/Pikachu/318.jpg  \n",
      " extracting: images/Train/Pikachu/321.jpg  \n",
      " extracting: images/Train/Pikachu/393.jpg  \n",
      " extracting: images/Train/Pikachu/304.jpg  \n",
      " extracting: images/Train/Pikachu/333.jpg  \n",
      " extracting: images/Train/Pikachu/354.jpg  \n",
      " extracting: images/Train/Pikachu/339.jpg  \n",
      " extracting: images/Train/Pikachu/316.jpg  \n",
      " extracting: images/Train/Pikachu/387.jpg  \n",
      " extracting: images/Train/Pikachu/334.jpg  \n",
      " extracting: images/Train/Pikachu/377.jpg  \n",
      " extracting: images/Train/Pikachu/300.jpg  \n",
      " extracting: images/Train/Pikachu/297.jpg  \n",
      " extracting: images/Train/Pikachu/342.jpg  \n",
      " extracting: images/Train/Pikachu/351.jpg  \n",
      " extracting: images/Train/Pikachu/365.jpg  \n",
      " extracting: images/Train/Pikachu/371.jpg  \n",
      " extracting: images/Train/Pikachu/324.jpg  \n",
      " extracting: images/Train/Pikachu/313.jpg  \n",
      " extracting: images/Train/Pikachu/344.jpg  \n",
      " extracting: images/Train/Pikachu/360.jpg  \n",
      " extracting: images/Train/Pikachu/340.jpg  \n",
      " extracting: images/Train/Pikachu/366.jpg  \n",
      " extracting: images/Train/Pikachu/325.jpg  \n",
      " extracting: images/Train/Pikachu/332.jpg  \n",
      " extracting: images/Train/Pikachu/358.jpg  \n",
      " extracting: images/Train/Pikachu/326.jpg  \n",
      " extracting: images/Train/Pikachu/375.jpg  \n",
      " extracting: images/Train/Pikachu/331.jpg  \n",
      " extracting: images/Train/Pikachu/391.jpg  \n",
      " extracting: images/Train/Pikachu/302.jpg  \n",
      " extracting: images/Train/Pikachu/374.jpg  \n",
      " extracting: images/Train/Pikachu/347.jpg  \n",
      " extracting: images/Train/Pikachu/370.jpg  \n",
      " extracting: images/Train/Pikachu/329.jpg  \n",
      " extracting: images/Train/Pikachu/305.jpg  \n",
      " extracting: images/Train/Pikachu/337.jpg  \n",
      " extracting: images/Train/Pikachu/367.jpg  \n",
      " extracting: images/Train/Pikachu/349.jpg  \n",
      " extracting: images/Train/Pikachu/395.jpg  \n",
      " extracting: images/Train/Pikachu/309.jpg  \n",
      " extracting: images/Train/Pikachu/301.jpg  \n",
      " extracting: images/Train/Pikachu/359.jpg  \n",
      " extracting: images/Train/Pikachu/328.jpg  \n",
      " extracting: images/Train/Pikachu/376.jpg  \n",
      " extracting: images/Train/Pikachu/392.jpg  \n",
      " extracting: images/Train/Pikachu/388.jpg  \n",
      " extracting: images/Train/Pikachu/348.jpg  \n",
      " extracting: images/Test/Pikachu/2000.jpg  \n",
      " extracting: images/Test/Pikachu/2001.jpg  \n",
      " extracting: images/Test/Pikachu/2002.jpg  \n",
      " extracting: images/Test/Pikachu/2003.jpg  \n",
      " extracting: images/Test/Pikachu/2004.jpg  \n",
      " extracting: images/Test/Pikachu/2005.jpg  \n",
      " extracting: images/Test/Pikachu/2006.jpg  \n",
      " extracting: images/Test/Pikachu/2007.jpg  \n",
      " extracting: images/Test/Pikachu/2008.jpg  \n",
      " extracting: images/Test/Pikachu/2009.jpg  \n",
      " extracting: images/Test/Pikachu/2010.jpg  \n",
      " extracting: images/Test/Pikachu/2011.jpg  \n",
      " extracting: images/Test/Pikachu/2012.jpg  \n",
      " extracting: images/Test/Pikachu/2013.jpg  \n",
      " extracting: images/Test/Pikachu/2014.jpg  \n",
      " extracting: images/Test/Pikachu/2015.jpg  \n",
      " extracting: images/Test/Pikachu/2016.jpg  \n",
      " extracting: images/Test/Pikachu/2017.jpg  \n",
      " extracting: images/Test/Pikachu/2018.jpg  \n",
      " extracting: images/Test/Pikachu/2019.jpg  \n",
      " extracting: images/Test/Pikachu/2020.jpg  \n",
      " extracting: images/Test/Pikachu/2021.jpg  \n",
      " extracting: images/Test/Pikachu/2022.jpg  \n",
      " extracting: images/Test/Pikachu/2023.jpg  \n",
      " extracting: images/Test/Pikachu/2024.jpg  \n",
      " extracting: images/Test/Pikachu/2025.jpg  \n",
      " extracting: images/Test/Pikachu/2026.jpg  \n",
      " extracting: images/Test/Pikachu/2027.jpg  \n",
      " extracting: images/Test/Pikachu/2028.jpg  \n",
      " extracting: images/Test/Pikachu/2029.jpg  \n",
      " extracting: images/Test/Pikachu/2030.jpg  \n",
      " extracting: images/Test/Pikachu/2031.jpg  \n",
      " extracting: images/Test/Pikachu/2032.jpg  \n",
      " extracting: images/Test/Pikachu/2033.jpg  \n",
      " extracting: images/Test/Pikachu/2034.jpg  \n",
      " extracting: images/Test/Pikachu/2035.jpg  \n",
      " extracting: images/Test/Pikachu/2036.jpg  \n",
      " extracting: images/Test/Pikachu/2037.jpg  \n",
      " extracting: images/Test/Pikachu/2038.jpg  \n",
      " extracting: images/Test/Pikachu/2039.jpg  \n",
      " extracting: images/Train/Bulbasaur/439.jpg  \n",
      " extracting: images/Train/Bulbasaur/474.jpg  \n",
      " extracting: images/Train/Bulbasaur/497.jpg  \n",
      " extracting: images/Train/Bulbasaur/401.jpg  \n",
      " extracting: images/Train/Bulbasaur/403.jpg  \n",
      " extracting: images/Train/Bulbasaur/407.jpg  \n",
      " extracting: images/Train/Bulbasaur/415.jpg  \n",
      " extracting: images/Train/Bulbasaur/429.jpg  \n",
      " extracting: images/Train/Bulbasaur/452.jpg  \n",
      " extracting: images/Train/Bulbasaur/455.jpg  \n",
      " extracting: images/Train/Bulbasaur/456.jpg  \n",
      " extracting: images/Train/Bulbasaur/402.jpg  \n",
      " extracting: images/Train/Bulbasaur/417.jpg  \n",
      " extracting: images/Train/Bulbasaur/433.jpg  \n",
      " extracting: images/Train/Bulbasaur/434.jpg  \n",
      " extracting: images/Train/Bulbasaur/440.jpg  \n",
      " extracting: images/Train/Bulbasaur/405.jpg  \n",
      " extracting: images/Train/Bulbasaur/419.jpg  \n",
      " extracting: images/Train/Bulbasaur/450.jpg  \n",
      " extracting: images/Train/Bulbasaur/471.jpg  \n",
      " extracting: images/Train/Bulbasaur/477.jpg  \n",
      " extracting: images/Train/Bulbasaur/483.jpg  \n",
      " extracting: images/Train/Bulbasaur/421.jpg  \n",
      " extracting: images/Train/Bulbasaur/427.jpg  \n",
      " extracting: images/Train/Bulbasaur/438.jpg  \n",
      " extracting: images/Train/Bulbasaur/470.jpg  \n",
      " extracting: images/Train/Bulbasaur/473.jpg  \n",
      " extracting: images/Train/Bulbasaur/485.jpg  \n",
      " extracting: images/Train/Bulbasaur/399.jpg  \n",
      " extracting: images/Train/Bulbasaur/409.jpg  \n",
      " extracting: images/Train/Bulbasaur/426.jpg  \n",
      " extracting: images/Train/Bulbasaur/460.jpg  \n",
      " extracting: images/Train/Bulbasaur/465.jpg  \n",
      " extracting: images/Train/Bulbasaur/489.jpg  \n",
      " extracting: images/Train/Bulbasaur/491.jpg  \n",
      " extracting: images/Train/Bulbasaur/416.jpg  \n",
      " extracting: images/Train/Bulbasaur/430.jpg  \n",
      " extracting: images/Train/Bulbasaur/432.jpg  \n",
      " extracting: images/Train/Bulbasaur/448.jpg  \n",
      " extracting: images/Train/Bulbasaur/467.jpg  \n",
      " extracting: images/Train/Bulbasaur/458.jpg  \n",
      " extracting: images/Train/Bulbasaur/472.jpg  \n",
      " extracting: images/Train/Bulbasaur/476.jpg  \n",
      " extracting: images/Train/Bulbasaur/398.jpg  \n",
      " extracting: images/Train/Bulbasaur/404.jpg  \n",
      " extracting: images/Train/Bulbasaur/413.jpg  \n",
      " extracting: images/Train/Bulbasaur/451.jpg  \n",
      " extracting: images/Train/Bulbasaur/457.jpg  \n",
      " extracting: images/Train/Bulbasaur/478.jpg  \n",
      " extracting: images/Train/Bulbasaur/400.jpg  \n",
      " extracting: images/Train/Bulbasaur/422.jpg  \n",
      " extracting: images/Train/Bulbasaur/480.jpg  \n",
      " extracting: images/Train/Bulbasaur/418.jpg  \n",
      " extracting: images/Train/Bulbasaur/424.jpg  \n",
      " extracting: images/Train/Bulbasaur/447.jpg  \n",
      " extracting: images/Train/Bulbasaur/449.jpg  \n",
      " extracting: images/Train/Bulbasaur/479.jpg  \n",
      " extracting: images/Train/Bulbasaur/462.jpg  \n",
      " extracting: images/Train/Bulbasaur/487.jpg  \n",
      " extracting: images/Train/Bulbasaur/412.jpg  \n",
      " extracting: images/Train/Bulbasaur/435.jpg  \n",
      " extracting: images/Train/Bulbasaur/436.jpg  \n",
      " extracting: images/Train/Bulbasaur/459.jpg  \n",
      " extracting: images/Train/Bulbasaur/461.jpg  \n",
      " extracting: images/Train/Bulbasaur/492.jpg  \n",
      " extracting: images/Train/Bulbasaur/482.jpg  \n",
      " extracting: images/Train/Bulbasaur/484.jpg  \n",
      " extracting: images/Train/Bulbasaur/486.jpg  \n",
      " extracting: images/Train/Bulbasaur/406.jpg  \n",
      " extracting: images/Train/Bulbasaur/414.jpg  \n",
      " extracting: images/Train/Bulbasaur/431.jpg  \n",
      " extracting: images/Train/Bulbasaur/444.jpg  \n",
      " extracting: images/Train/Bulbasaur/453.jpg  \n",
      " extracting: images/Train/Bulbasaur/493.jpg  \n",
      " extracting: images/Train/Bulbasaur/495.jpg  \n",
      " extracting: images/Train/Bulbasaur/454.jpg  \n",
      " extracting: images/Train/Bulbasaur/469.jpg  \n",
      " extracting: images/Train/Bulbasaur/488.jpg  \n",
      " extracting: images/Train/Bulbasaur/443.jpg  \n",
      " extracting: images/Train/Bulbasaur/468.jpg  \n",
      " extracting: images/Train/Bulbasaur/481.jpg  \n",
      " extracting: images/Train/Bulbasaur/408.jpg  \n",
      " extracting: images/Train/Bulbasaur/423.jpg  \n",
      " extracting: images/Train/Bulbasaur/428.jpg  \n",
      " extracting: images/Train/Bulbasaur/441.jpg  \n",
      " extracting: images/Train/Bulbasaur/442.jpg  \n",
      " extracting: images/Train/Bulbasaur/494.jpg  \n",
      " extracting: images/Train/Bulbasaur/496.jpg  \n",
      " extracting: images/Train/Bulbasaur/464.jpg  \n",
      " extracting: images/Train/Bulbasaur/475.jpg  \n",
      " extracting: images/Train/Bulbasaur/490.jpg  \n",
      " extracting: images/Train/Bulbasaur/410.jpg  \n",
      " extracting: images/Train/Bulbasaur/411.jpg  \n",
      " extracting: images/Train/Bulbasaur/420.jpg  \n",
      " extracting: images/Train/Bulbasaur/425.jpg  \n",
      " extracting: images/Train/Bulbasaur/437.jpg  \n",
      " extracting: images/Train/Bulbasaur/397.jpg  \n",
      " extracting: images/Train/Bulbasaur/445.jpg  \n",
      " extracting: images/Train/Bulbasaur/446.jpg  \n",
      " extracting: images/Train/Bulbasaur/463.jpg  \n",
      " extracting: images/Train/Bulbasaur/466.jpg  \n",
      " extracting: images/Test/Bulbasaur/1100.jpg  \n",
      " extracting: images/Test/Bulbasaur/1101.jpg  \n",
      " extracting: images/Test/Bulbasaur/1102.jpg  \n",
      " extracting: images/Test/Bulbasaur/1103.jpg  \n",
      " extracting: images/Test/Bulbasaur/1104.jpg  \n",
      " extracting: images/Test/Bulbasaur/1105.jpg  \n",
      " extracting: images/Test/Bulbasaur/1106.jpg  \n",
      " extracting: images/Test/Bulbasaur/1107.jpg  \n",
      " extracting: images/Test/Bulbasaur/1108.jpg  \n",
      " extracting: images/Test/Bulbasaur/1109.jpg  \n",
      " extracting: images/Test/Bulbasaur/1110.jpg  \n",
      " extracting: images/Test/Bulbasaur/1111.jpg  \n",
      " extracting: images/Test/Bulbasaur/1112.jpg  \n",
      " extracting: images/Test/Bulbasaur/1113.jpg  \n",
      " extracting: images/Test/Bulbasaur/1114.jpg  \n",
      " extracting: images/Test/Bulbasaur/1115.jpg  \n",
      " extracting: images/Test/Bulbasaur/1116.jpg  \n",
      " extracting: images/Test/Bulbasaur/1117.jpg  \n",
      " extracting: images/Test/Bulbasaur/1118.jpg  \n",
      " extracting: images/Test/Bulbasaur/1119.jpg  \n",
      " extracting: images/Test/Bulbasaur/1120.jpg  \n",
      " extracting: images/Test/Bulbasaur/1121.jpg  \n",
      " extracting: images/Test/Bulbasaur/1122.jpg  \n",
      " extracting: images/Test/Bulbasaur/1123.jpg  \n",
      " extracting: images/Test/Bulbasaur/1124.jpg  \n",
      " extracting: images/Test/Bulbasaur/1125.jpg  \n",
      " extracting: images/Test/Bulbasaur/1126.jpg  \n",
      " extracting: images/Test/Bulbasaur/1127.jpg  \n",
      " extracting: images/Test/Bulbasaur/1128.jpg  \n",
      " extracting: images/Test/Bulbasaur/1129.jpg  \n",
      " extracting: images/Test/Bulbasaur/1130.jpg  \n",
      " extracting: images/Test/Bulbasaur/1131.jpg  \n",
      " extracting: images/Test/Bulbasaur/1132.jpg  \n",
      " extracting: images/Test/Bulbasaur/1133.jpg  \n",
      " extracting: images/Test/Bulbasaur/1134.jpg  \n",
      " extracting: images/Test/Bulbasaur/1135.jpg  \n",
      " extracting: images/Test/Bulbasaur/1136.jpg  \n",
      " extracting: images/Test/Bulbasaur/1137.jpg  \n",
      " extracting: images/Test/Bulbasaur/1138.jpg  \n",
      " extracting: images/Test/Bulbasaur/1139.jpg  \n",
      " extracting: images/Test/Bulbasaur/1140.jpg  \n",
      " extracting: images/Train/Charmander/597.jpg  \n",
      " extracting: images/Train/Charmander/610.jpg  \n",
      " extracting: images/Train/Charmander/539.jpg  \n",
      " extracting: images/Train/Charmander/542.jpg  \n",
      " extracting: images/Train/Charmander/557.jpg  \n",
      " extracting: images/Train/Charmander/571.jpg  \n",
      " extracting: images/Train/Charmander/576.jpg  \n",
      " extracting: images/Train/Charmander/592.jpg  \n",
      " extracting: images/Train/Charmander/525.jpg  \n",
      " extracting: images/Train/Charmander/530.jpg  \n",
      " extracting: images/Train/Charmander/543.jpg  \n",
      " extracting: images/Train/Charmander/577.jpg  \n",
      " extracting: images/Train/Charmander/574.jpg  \n",
      " extracting: images/Train/Charmander/580.jpg  \n",
      " extracting: images/Train/Charmander/599.jpg  \n",
      " extracting: images/Train/Charmander/615.jpg  \n",
      " extracting: images/Train/Charmander/523.jpg  \n",
      " extracting: images/Train/Charmander/537.jpg  \n",
      " extracting: images/Train/Charmander/549.jpg  \n",
      " extracting: images/Train/Charmander/550.jpg  \n",
      " extracting: images/Train/Charmander/605.jpg  \n",
      " extracting: images/Train/Charmander/612.jpg  \n",
      " extracting: images/Train/Charmander/520.jpg  \n",
      " extracting: images/Train/Charmander/536.jpg  \n",
      " extracting: images/Train/Charmander/555.jpg  \n",
      " extracting: images/Train/Charmander/586.jpg  \n",
      " extracting: images/Train/Charmander/593.jpg  \n",
      " extracting: images/Train/Charmander/607.jpg  \n",
      " extracting: images/Train/Charmander/613.jpg  \n",
      " extracting: images/Train/Charmander/528.jpg  \n",
      " extracting: images/Train/Charmander/548.jpg  \n",
      " extracting: images/Train/Charmander/552.jpg  \n",
      " extracting: images/Train/Charmander/565.jpg  \n",
      " extracting: images/Train/Charmander/582.jpg  \n",
      " extracting: images/Train/Charmander/611.jpg  \n",
      " extracting: images/Train/Charmander/521.jpg  \n",
      " extracting: images/Train/Charmander/562.jpg  \n",
      " extracting: images/Train/Charmander/563.jpg  \n",
      " extracting: images/Train/Charmander/589.jpg  \n",
      " extracting: images/Train/Charmander/590.jpg  \n",
      " extracting: images/Train/Charmander/614.jpg  \n",
      " extracting: images/Train/Charmander/581.jpg  \n",
      " extracting: images/Train/Charmander/601.jpg  \n",
      " extracting: images/Train/Charmander/527.jpg  \n",
      " extracting: images/Train/Charmander/533.jpg  \n",
      " extracting: images/Train/Charmander/547.jpg  \n",
      " extracting: images/Train/Charmander/551.jpg  \n",
      " extracting: images/Train/Charmander/554.jpg  \n",
      " extracting: images/Train/Charmander/559.jpg  \n",
      " extracting: images/Train/Charmander/608.jpg  \n",
      " extracting: images/Train/Charmander/617.jpg  \n",
      " extracting: images/Train/Charmander/619.jpg  \n",
      " extracting: images/Train/Charmander/604.jpg  \n",
      " extracting: images/Train/Charmander/498.jpg  \n",
      " extracting: images/Train/Charmander/526.jpg  \n",
      " extracting: images/Train/Charmander/546.jpg  \n",
      " extracting: images/Train/Charmander/585.jpg  \n",
      " extracting: images/Train/Charmander/587.jpg  \n",
      " extracting: images/Train/Charmander/600.jpg  \n",
      " extracting: images/Train/Charmander/545.jpg  \n",
      " extracting: images/Train/Charmander/560.jpg  \n",
      " extracting: images/Train/Charmander/620.jpg  \n",
      " extracting: images/Train/Charmander/531.jpg  \n",
      " extracting: images/Train/Charmander/541.jpg  \n",
      " extracting: images/Train/Charmander/572.jpg  \n",
      " extracting: images/Train/Charmander/578.jpg  \n",
      " extracting: images/Train/Charmander/595.jpg  \n",
      " extracting: images/Train/Charmander/522.jpg  \n",
      " extracting: images/Train/Charmander/544.jpg  \n",
      " extracting: images/Train/Charmander/596.jpg  \n",
      " extracting: images/Train/Charmander/602.jpg  \n",
      " extracting: images/Train/Charmander/573.jpg  \n",
      " extracting: images/Train/Charmander/583.jpg  \n",
      " extracting: images/Train/Charmander/538.jpg  \n",
      " extracting: images/Train/Charmander/553.jpg  \n",
      " extracting: images/Train/Charmander/556.jpg  \n",
      " extracting: images/Train/Charmander/564.jpg  \n",
      " extracting: images/Train/Charmander/566.jpg  \n",
      " extracting: images/Train/Charmander/569.jpg  \n",
      " extracting: images/Train/Charmander/594.jpg  \n",
      " extracting: images/Train/Charmander/609.jpg  \n",
      " extracting: images/Train/Charmander/616.jpg  \n",
      " extracting: images/Train/Charmander/558.jpg  \n",
      " extracting: images/Train/Charmander/584.jpg  \n",
      " extracting: images/Train/Charmander/598.jpg  \n",
      " extracting: images/Train/Charmander/570.jpg  \n",
      " extracting: images/Train/Charmander/579.jpg  \n",
      " extracting: images/Train/Charmander/529.jpg  \n",
      " extracting: images/Train/Charmander/532.jpg  \n",
      " extracting: images/Train/Charmander/534.jpg  \n",
      " extracting: images/Train/Charmander/535.jpg  \n",
      " extracting: images/Train/Charmander/567.jpg  \n",
      " extracting: images/Train/Charmander/568.jpg  \n",
      " extracting: images/Train/Charmander/603.jpg  \n",
      " extracting: images/Train/Charmander/606.jpg  \n",
      " extracting: images/Train/Charmander/618.jpg  \n",
      " extracting: images/Train/Charmander/524.jpg  \n",
      " extracting: images/Train/Charmander/540.jpg  \n",
      " extracting: images/Train/Charmander/561.jpg  \n",
      " extracting: images/Train/Charmander/575.jpg  \n",
      " extracting: images/Train/Charmander/588.jpg  \n",
      " extracting: images/Train/Charmander/591.jpg  \n",
      " extracting: images/Test/Charmander/2040.jpg  \n",
      " extracting: images/Test/Charmander/2200.jpg  \n",
      " extracting: images/Test/Charmander/2201.jpg  \n",
      " extracting: images/Test/Charmander/2202.jpg  \n",
      " extracting: images/Test/Charmander/2203.jpg  \n",
      " extracting: images/Test/Charmander/2204.jpg  \n",
      " extracting: images/Test/Charmander/2205.jpg  \n",
      " extracting: images/Test/Charmander/2206.jpg  \n",
      " extracting: images/Test/Charmander/2207.jpg  \n",
      " extracting: images/Test/Charmander/2208.jpg  \n",
      " extracting: images/Test/Charmander/2209.jpg  \n",
      " extracting: images/Test/Charmander/2210.jpg  \n",
      " extracting: images/Test/Charmander/2211.jpg  \n",
      " extracting: images/Test/Charmander/2212.jpg  \n",
      " extracting: images/Test/Charmander/2213.jpg  \n",
      " extracting: images/Test/Charmander/2214.jpg  \n",
      " extracting: images/Test/Charmander/2215.jpg  \n",
      " extracting: images/Test/Charmander/2216.jpg  \n",
      " extracting: images/Test/Charmander/2217.jpg  \n",
      " extracting: images/Test/Charmander/2218.jpg  \n",
      " extracting: images/Test/Charmander/2219.jpg  \n",
      " extracting: images/Test/Charmander/2220.jpg  \n",
      " extracting: images/Test/Charmander/2221.jpg  \n",
      " extracting: images/Test/Charmander/2222.jpg  \n",
      " extracting: images/Test/Charmander/2223.jpg  \n",
      " extracting: images/Test/Charmander/2224.jpg  \n",
      " extracting: images/Test/Charmander/2225.jpg  \n",
      " extracting: images/Test/Charmander/2226.jpg  \n",
      " extracting: images/Test/Charmander/2227.jpg  \n",
      " extracting: images/Test/Charmander/2228.jpg  \n",
      " extracting: images/Test/Charmander/2229.jpg  \n",
      " extracting: images/Test/Charmander/2230.jpg  \n",
      " extracting: images/Test/Charmander/2231.jpg  \n",
      " extracting: images/Test/Charmander/2232.jpg  \n",
      " extracting: images/Test/Charmander/2233.jpg  \n",
      " extracting: images/Test/Charmander/2234.jpg  \n",
      " extracting: images/Test/Charmander/2235.jpg  \n",
      " extracting: images/Test/Charmander/2236.jpg  \n",
      " extracting: images/Test/Charmander/2237.jpg  \n",
      " extracting: images/Test/Charmander/2238.jpg  \n",
      " extracting: images/Test/Charmander/2239.jpg  \n",
      " extracting: images/Test/Charmander/2240.jpg  \n"
     ]
    }
   ],
   "source": [
    "# !unzip data -d \"images/\""
   ]
  },
  {
   "cell_type": "code",
   "execution_count": 7,
   "metadata": {},
   "outputs": [
    {
     "data": {
      "text/plain": [
       "['Pikachu', 'Charmander', 'Bulbasaur']"
      ]
     },
     "execution_count": 7,
     "metadata": {},
     "output_type": "execute_result"
    }
   ],
   "source": [
    "classes=os.listdir(\"images/Train\")\n",
    "classes"
   ]
  },
  {
   "cell_type": "code",
   "execution_count": 8,
   "metadata": {},
   "outputs": [
    {
     "name": "stdout",
     "output_type": "stream",
     "text": [
      "Training Data \n",
      "Pikachu : 101\n",
      "Charmander : 102\n",
      "Bulbasaur : 101\n"
     ]
    }
   ],
   "source": [
    "print(\"Train Data \")\n",
    "for folder in classes:\n",
    "    path=\"images/Train/\"+folder\n",
    "    length=len(os.listdir(path))\n",
    "    print(folder,\":\",length)"
   ]
  },
  {
   "cell_type": "code",
   "execution_count": 9,
   "metadata": {},
   "outputs": [
    {
     "name": "stdout",
     "output_type": "stream",
     "text": [
      "Test Data \n",
      "Pikachu : 40\n",
      "Charmander : 42\n",
      "Bulbasaur : 41\n"
     ]
    }
   ],
   "source": [
    "print(\"Test Data \")\n",
    "for folder in classes:\n",
    "    path=\"images/Test/\"+folder\n",
    "    length=len(os.listdir(path))\n",
    "    print(folder,\":\",length)"
   ]
  },
  {
   "cell_type": "markdown",
   "metadata": {},
   "source": [
    "### Data Loading"
   ]
  },
  {
   "cell_type": "code",
   "execution_count": 11,
   "metadata": {},
   "outputs": [],
   "source": [
    "from keras.preprocessing import image"
   ]
  },
  {
   "cell_type": "code",
   "execution_count": 12,
   "metadata": {},
   "outputs": [],
   "source": [
    "train_data=[] # X\n",
    "train_labels=[] # Y"
   ]
  },
  {
   "cell_type": "code",
   "execution_count": 14,
   "metadata": {},
   "outputs": [
    {
     "name": "stderr",
     "output_type": "stream",
     "text": [
      "/Library/Frameworks/Python.framework/Versions/3.10/lib/python3.10/site-packages/PIL/Image.py:970: UserWarning: Palette images with Transparency expressed in bytes should be converted to RGBA images\n",
      "  warnings.warn(\n"
     ]
    }
   ],
   "source": [
    "for category in classes:\n",
    "    folder_path=f\"images/Train/{category}\"\n",
    "    for img_name in os.listdir(folder_path):\n",
    "        img_path=f\"{folder_path}/{img_name}\"\n",
    "        img=image.load_img(img_path,target_size=(100,100))\n",
    "        img=image.img_to_array(img)\n",
    "        train_data.append(img)\n",
    "        train_labels.append(category)"
   ]
  },
  {
   "cell_type": "code",
   "execution_count": 15,
   "metadata": {},
   "outputs": [
    {
     "data": {
      "text/plain": [
       "(304, 304)"
      ]
     },
     "execution_count": 15,
     "metadata": {},
     "output_type": "execute_result"
    }
   ],
   "source": [
    "len(train_data),len(train_labels)"
   ]
  },
  {
   "cell_type": "markdown",
   "metadata": {},
   "source": [
    "### Data Preprocessing"
   ]
  },
  {
   "cell_type": "code",
   "execution_count": 16,
   "metadata": {},
   "outputs": [],
   "source": [
    "train_labels=np.array(train_labels)\n",
    "train_data=np.array(train_data)"
   ]
  },
  {
   "cell_type": "code",
   "execution_count": 17,
   "metadata": {},
   "outputs": [
    {
     "data": {
      "text/plain": [
       "((304,), (304, 100, 100, 3))"
      ]
     },
     "execution_count": 17,
     "metadata": {},
     "output_type": "execute_result"
    }
   ],
   "source": [
    "train_labels.shape,train_data.shape"
   ]
  },
  {
   "cell_type": "code",
   "execution_count": 18,
   "metadata": {},
   "outputs": [
    {
     "data": {
      "text/plain": [
       "(304, 30000)"
      ]
     },
     "execution_count": 18,
     "metadata": {},
     "output_type": "execute_result"
    }
   ],
   "source": [
    "# convert to (304 , 100 , 100 , 3) => (304 , 30000)\n",
    "train_data=train_data.reshape((len(train_data),-1))\n",
    "train_data.shape"
   ]
  },
  {
   "cell_type": "code",
   "execution_count": 19,
   "metadata": {},
   "outputs": [],
   "source": [
    "categoryToLabel={'Pikachu' : 0,'Charmander' : 1,'Bulbasaur' : 2}\n",
    "labelToCategory={0 : 'Pikachu',1:'Charmander',2:'Bulbasaur'}"
   ]
  },
  {
   "cell_type": "code",
   "execution_count": 21,
   "metadata": {},
   "outputs": [],
   "source": [
    "train_labels=np.array([categoryToLabel[label] for label in train_labels ])"
   ]
  },
  {
   "cell_type": "code",
   "execution_count": 23,
   "metadata": {},
   "outputs": [],
   "source": [
    "from keras.utils import to_categorical"
   ]
  },
  {
   "cell_type": "code",
   "execution_count": 24,
   "metadata": {},
   "outputs": [],
   "source": [
    "# one hot encoding because we have more than 2 classes its a multiclass classification problem\n",
    "train_labels=to_categorical(train_labels)"
   ]
  },
  {
   "cell_type": "code",
   "execution_count": 25,
   "metadata": {},
   "outputs": [
    {
     "data": {
      "text/plain": [
       "(304, 3)"
      ]
     },
     "execution_count": 25,
     "metadata": {},
     "output_type": "execute_result"
    }
   ],
   "source": [
    "train_labels.shape"
   ]
  },
  {
   "cell_type": "code",
   "execution_count": 30,
   "metadata": {},
   "outputs": [
    {
     "data": {
      "text/plain": [
       "array([[1., 0., 0.],\n",
       "       [1., 0., 0.],\n",
       "       [1., 0., 0.],\n",
       "       [1., 0., 0.],\n",
       "       [1., 0., 0.]], dtype=float32)"
      ]
     },
     "execution_count": 30,
     "metadata": {},
     "output_type": "execute_result"
    }
   ],
   "source": [
    "train_labels[:5]"
   ]
  },
  {
   "cell_type": "markdown",
   "metadata": {},
   "source": [
    "### Model Architecture"
   ]
  },
  {
   "cell_type": "code",
   "execution_count": 31,
   "metadata": {},
   "outputs": [],
   "source": [
    "from keras.layers import Dense\n",
    "from keras.models import Sequential"
   ]
  },
  {
   "cell_type": "code",
   "execution_count": 32,
   "metadata": {},
   "outputs": [],
   "source": [
    "n_features=train_data.shape[1]"
   ]
  },
  {
   "cell_type": "code",
   "execution_count": 34,
   "metadata": {},
   "outputs": [
    {
     "name": "stdout",
     "output_type": "stream",
     "text": [
      "Model: \"sequential_1\"\n",
      "_________________________________________________________________\n",
      " Layer (type)                Output Shape              Param #   \n",
      "=================================================================\n",
      " dense_5 (Dense)             (None, 512)               15360512  \n",
      "                                                                 \n",
      " dense_6 (Dense)             (None, 256)               131328    \n",
      "                                                                 \n",
      " dense_7 (Dense)             (None, 128)               32896     \n",
      "                                                                 \n",
      " dense_8 (Dense)             (None, 64)                8256      \n",
      "                                                                 \n",
      " dense_9 (Dense)             (None, 3)                 195       \n",
      "                                                                 \n",
      "=================================================================\n",
      "Total params: 15533187 (59.25 MB)\n",
      "Trainable params: 15533187 (59.25 MB)\n",
      "Non-trainable params: 0 (0.00 Byte)\n",
      "_________________________________________________________________\n"
     ]
    }
   ],
   "source": [
    "model=Sequential()\n",
    "model.add(Dense(units=512,activation='relu',input_shape=(n_features,)))\n",
    "model.add(Dense(units=256,activation='relu'))\n",
    "model.add(Dense(units=128,activation='relu'))\n",
    "model.add(Dense(units=64,activation='relu'))\n",
    "model.add(Dense(units=3,activation='softmax'))\n",
    "\n",
    "model.compile(optimizer='adam',loss='categorical_crossentropy',metrics=['accuracy'])\n",
    "model.summary()"
   ]
  },
  {
   "cell_type": "code",
   "execution_count": 36,
   "metadata": {},
   "outputs": [
    {
     "name": "stdout",
     "output_type": "stream",
     "text": [
      "Epoch 1/50\n",
      "10/10 [==============================] - 0s 27ms/step - loss: 3.7164 - accuracy: 0.9704\n",
      "Epoch 2/50\n",
      "10/10 [==============================] - 0s 29ms/step - loss: 1.5718 - accuracy: 0.9836\n",
      "Epoch 3/50\n",
      "10/10 [==============================] - 0s 29ms/step - loss: 1.6248 - accuracy: 0.9836\n",
      "Epoch 4/50\n",
      "10/10 [==============================] - 0s 29ms/step - loss: 0.5972 - accuracy: 0.9967\n",
      "Epoch 5/50\n",
      "10/10 [==============================] - 0s 27ms/step - loss: 0.0000e+00 - accuracy: 1.0000\n",
      "Epoch 6/50\n",
      "10/10 [==============================] - 0s 26ms/step - loss: 7.8978e-05 - accuracy: 1.0000\n",
      "Epoch 7/50\n",
      "10/10 [==============================] - 0s 27ms/step - loss: 1.9865e-05 - accuracy: 1.0000\n",
      "Epoch 8/50\n",
      "10/10 [==============================] - 0s 27ms/step - loss: 1.4561e-06 - accuracy: 1.0000\n",
      "Epoch 9/50\n",
      "10/10 [==============================] - 0s 27ms/step - loss: 4.7406e-07 - accuracy: 1.0000\n",
      "Epoch 10/50\n",
      "10/10 [==============================] - 0s 26ms/step - loss: 3.5918e-07 - accuracy: 1.0000\n",
      "Epoch 11/50\n",
      "10/10 [==============================] - 0s 26ms/step - loss: 2.7840e-07 - accuracy: 1.0000\n",
      "Epoch 12/50\n",
      "10/10 [==============================] - 0s 27ms/step - loss: 2.4939e-07 - accuracy: 1.0000\n",
      "Epoch 13/50\n",
      "10/10 [==============================] - 0s 27ms/step - loss: 2.3763e-07 - accuracy: 1.0000\n",
      "Epoch 14/50\n",
      "10/10 [==============================] - 0s 27ms/step - loss: 2.2782e-07 - accuracy: 1.0000\n",
      "Epoch 15/50\n",
      "10/10 [==============================] - 0s 26ms/step - loss: 2.2508e-07 - accuracy: 1.0000\n",
      "Epoch 16/50\n",
      "10/10 [==============================] - 0s 27ms/step - loss: 2.1449e-07 - accuracy: 1.0000\n",
      "Epoch 17/50\n",
      "10/10 [==============================] - 0s 27ms/step - loss: 2.1096e-07 - accuracy: 1.0000\n",
      "Epoch 18/50\n",
      "10/10 [==============================] - 0s 27ms/step - loss: 2.0312e-07 - accuracy: 1.0000\n",
      "Epoch 19/50\n",
      "10/10 [==============================] - 0s 27ms/step - loss: 1.9802e-07 - accuracy: 1.0000\n",
      "Epoch 20/50\n",
      "10/10 [==============================] - 0s 31ms/step - loss: 1.9214e-07 - accuracy: 1.0000\n",
      "Epoch 21/50\n",
      "10/10 [==============================] - 0s 27ms/step - loss: 1.8822e-07 - accuracy: 1.0000\n",
      "Epoch 22/50\n",
      "10/10 [==============================] - 0s 27ms/step - loss: 1.8195e-07 - accuracy: 1.0000\n",
      "Epoch 23/50\n",
      "10/10 [==============================] - 0s 27ms/step - loss: 1.7842e-07 - accuracy: 1.0000\n",
      "Epoch 24/50\n",
      "10/10 [==============================] - 0s 28ms/step - loss: 1.7410e-07 - accuracy: 1.0000\n",
      "Epoch 25/50\n",
      "10/10 [==============================] - 0s 27ms/step - loss: 1.6979e-07 - accuracy: 1.0000\n",
      "Epoch 26/50\n",
      "10/10 [==============================] - 0s 27ms/step - loss: 1.6861e-07 - accuracy: 1.0000\n",
      "Epoch 27/50\n",
      "10/10 [==============================] - 0s 27ms/step - loss: 1.5803e-07 - accuracy: 1.0000\n",
      "Epoch 28/50\n",
      "10/10 [==============================] - 0s 30ms/step - loss: 1.5489e-07 - accuracy: 1.0000\n",
      "Epoch 29/50\n",
      "10/10 [==============================] - 0s 31ms/step - loss: 1.5018e-07 - accuracy: 1.0000\n",
      "Epoch 30/50\n",
      "10/10 [==============================] - 0s 28ms/step - loss: 1.4705e-07 - accuracy: 1.0000\n",
      "Epoch 31/50\n",
      "10/10 [==============================] - 0s 29ms/step - loss: 1.4430e-07 - accuracy: 1.0000\n",
      "Epoch 32/50\n",
      "10/10 [==============================] - 0s 31ms/step - loss: 1.4117e-07 - accuracy: 1.0000\n",
      "Epoch 33/50\n",
      "10/10 [==============================] - 0s 29ms/step - loss: 1.3803e-07 - accuracy: 1.0000\n",
      "Epoch 34/50\n",
      "10/10 [==============================] - 0s 33ms/step - loss: 1.3607e-07 - accuracy: 1.0000\n",
      "Epoch 35/50\n",
      "10/10 [==============================] - 0s 28ms/step - loss: 1.3293e-07 - accuracy: 1.0000\n",
      "Epoch 36/50\n",
      "10/10 [==============================] - 0s 28ms/step - loss: 1.2979e-07 - accuracy: 1.0000\n",
      "Epoch 37/50\n",
      "10/10 [==============================] - 0s 28ms/step - loss: 1.2744e-07 - accuracy: 1.0000\n",
      "Epoch 38/50\n",
      "10/10 [==============================] - 0s 28ms/step - loss: 1.2548e-07 - accuracy: 1.0000\n",
      "Epoch 39/50\n",
      "10/10 [==============================] - 0s 34ms/step - loss: 1.2313e-07 - accuracy: 1.0000\n",
      "Epoch 40/50\n",
      "10/10 [==============================] - 0s 28ms/step - loss: 1.2078e-07 - accuracy: 1.0000\n",
      "Epoch 41/50\n",
      "10/10 [==============================] - 0s 31ms/step - loss: 1.1803e-07 - accuracy: 1.0000\n",
      "Epoch 42/50\n",
      "10/10 [==============================] - 0s 29ms/step - loss: 1.1607e-07 - accuracy: 1.0000\n",
      "Epoch 43/50\n",
      "10/10 [==============================] - 0s 32ms/step - loss: 1.1568e-07 - accuracy: 1.0000\n",
      "Epoch 44/50\n",
      "10/10 [==============================] - 0s 28ms/step - loss: 1.1215e-07 - accuracy: 1.0000\n",
      "Epoch 45/50\n",
      "10/10 [==============================] - 0s 28ms/step - loss: 1.1019e-07 - accuracy: 1.0000\n",
      "Epoch 46/50\n",
      "10/10 [==============================] - 0s 29ms/step - loss: 1.0862e-07 - accuracy: 1.0000\n",
      "Epoch 47/50\n",
      "10/10 [==============================] - 0s 28ms/step - loss: 1.0627e-07 - accuracy: 1.0000\n",
      "Epoch 48/50\n",
      "10/10 [==============================] - 0s 29ms/step - loss: 1.0470e-07 - accuracy: 1.0000\n",
      "Epoch 49/50\n",
      "10/10 [==============================] - 0s 28ms/step - loss: 1.0313e-07 - accuracy: 1.0000\n",
      "Epoch 50/50\n",
      "10/10 [==============================] - 0s 28ms/step - loss: 1.0117e-07 - accuracy: 1.0000\n"
     ]
    }
   ],
   "source": [
    "model.fit(train_data,train_labels,batch_size=32,epochs=50);"
   ]
  },
  {
   "cell_type": "markdown",
   "metadata": {},
   "source": [
    "### Test Data "
   ]
  },
  {
   "cell_type": "code",
   "execution_count": 38,
   "metadata": {},
   "outputs": [],
   "source": [
    "test_data=[] # X\n",
    "test_labels=[] # Y"
   ]
  },
  {
   "cell_type": "code",
   "execution_count": 39,
   "metadata": {},
   "outputs": [],
   "source": [
    "for category in classes:\n",
    "    folder_path=f\"images/Test/{category}\"\n",
    "    for img_name in os.listdir(folder_path):\n",
    "        img_path=f\"{folder_path}/{img_name}\"\n",
    "        img=image.load_img(img_path,target_size=(100,100))\n",
    "        img=image.img_to_array(img)\n",
    "        test_data.append(img)\n",
    "        test_labels.append(category)"
   ]
  },
  {
   "cell_type": "code",
   "execution_count": 40,
   "metadata": {},
   "outputs": [],
   "source": [
    "test_labels=np.array(test_labels)\n",
    "test_data=np.array(test_data)"
   ]
  },
  {
   "cell_type": "code",
   "execution_count": 41,
   "metadata": {},
   "outputs": [
    {
     "data": {
      "text/plain": [
       "((123,), (123, 100, 100, 3))"
      ]
     },
     "execution_count": 41,
     "metadata": {},
     "output_type": "execute_result"
    }
   ],
   "source": [
    "test_labels.shape,test_data.shape"
   ]
  },
  {
   "cell_type": "code",
   "execution_count": 42,
   "metadata": {},
   "outputs": [
    {
     "data": {
      "text/plain": [
       "(123, 3)"
      ]
     },
     "execution_count": 42,
     "metadata": {},
     "output_type": "execute_result"
    }
   ],
   "source": [
    "test_labels=np.array([categoryToLabel[label] for label in test_labels ])\n",
    "test_labels=to_categorical(test_labels)\n",
    "test_labels.shape"
   ]
  },
  {
   "cell_type": "code",
   "execution_count": 43,
   "metadata": {},
   "outputs": [
    {
     "data": {
      "text/plain": [
       "(123, 30000)"
      ]
     },
     "execution_count": 43,
     "metadata": {},
     "output_type": "execute_result"
    }
   ],
   "source": [
    "# convert to (304 , 100 , 100 , 3) => (304 , 30000)\n",
    "test_data=test_data.reshape((len(test_data),-1))\n",
    "test_data.shape"
   ]
  },
  {
   "cell_type": "code",
   "execution_count": 44,
   "metadata": {},
   "outputs": [
    {
     "name": "stdout",
     "output_type": "stream",
     "text": [
      "4/4 [==============================] - 0s 11ms/step - loss: 7.4177 - accuracy: 0.9756\n"
     ]
    },
    {
     "data": {
      "text/plain": [
       "[7.417714595794678, 0.9756097793579102]"
      ]
     },
     "execution_count": 44,
     "metadata": {},
     "output_type": "execute_result"
    }
   ],
   "source": [
    "model.evaluate(test_data,test_labels)"
   ]
  },
  {
   "cell_type": "code",
   "execution_count": 45,
   "metadata": {},
   "outputs": [
    {
     "name": "stdout",
     "output_type": "stream",
     "text": [
      "4/4 [==============================] - 0s 9ms/step\n"
     ]
    },
    {
     "data": {
      "text/plain": [
       "array([0, 0, 0, 0, 0, 0, 0, 0, 0, 0, 0, 0, 0, 0, 0, 0, 0, 0, 0, 0, 0, 0,\n",
       "       0, 0, 0, 0, 2, 0, 0, 0, 0, 0, 0, 0, 0, 0, 0, 0, 0, 0, 1, 1, 1, 1,\n",
       "       1, 1, 1, 1, 1, 1, 1, 1, 1, 1, 1, 1, 1, 1, 1, 1, 1, 1, 1, 1, 1, 1,\n",
       "       1, 1, 1, 1, 1, 1, 1, 1, 1, 2, 1, 1, 1, 1, 0, 1, 2, 2, 2, 2, 2, 2,\n",
       "       2, 2, 2, 2, 2, 2, 2, 2, 2, 2, 2, 2, 2, 2, 2, 2, 2, 2, 2, 2, 2, 2,\n",
       "       2, 2, 2, 2, 2, 2, 2, 2, 2, 2, 2, 2, 2])"
      ]
     },
     "execution_count": 45,
     "metadata": {},
     "output_type": "execute_result"
    }
   ],
   "source": [
    "pred=model.predict(test_data).argmax(axis=1)"
   ]
  },
  {
   "cell_type": "markdown",
   "metadata": {},
   "source": [
    "### Prediction For 1 Image"
   ]
  },
  {
   "cell_type": "code",
   "execution_count": 65,
   "metadata": {},
   "outputs": [
    {
     "data": {
      "image/png": "[encoded data removed]",
      "text/plain": [
       "<Figure size 640x480 with 1 Axes>"
      ]
     },
     "metadata": {},
     "output_type": "display_data"
    }
   ],
   "source": [
    "test_image=\"images/Test/Charmander/2201.jpg\"\n",
    "test_image=image.load_img(test_image,target_size=(100,100))\n",
    "test_image=image.img_to_array(test_image)\n",
    "plt.imshow(test_image.astype('int'));"
   ]
  },
  {
   "cell_type": "code",
   "execution_count": 66,
   "metadata": {},
   "outputs": [
    {
     "data": {
      "text/plain": [
       "(1, 30000)"
      ]
     },
     "execution_count": 66,
     "metadata": {},
     "output_type": "execute_result"
    }
   ],
   "source": [
    "test_image=test_image.reshape((1,-1))\n",
    "test_image.shape"
   ]
  },
  {
   "cell_type": "code",
   "execution_count": 67,
   "metadata": {},
   "outputs": [
    {
     "name": "stdout",
     "output_type": "stream",
     "text": [
      "1/1 [==============================] - 0s 30ms/step\n"
     ]
    }
   ],
   "source": [
    "pred=labelToCategory[model.predict(test_image).argmax()]"
   ]
  },
  {
   "cell_type": "code",
   "execution_count": 68,
   "metadata": {},
   "outputs": [
    {
     "name": "stdout",
     "output_type": "stream",
     "text": [
      "Predicted Pokemon is  Charmander\n"
     ]
    }
   ],
   "source": [
    "print(\"Predicted Pokemon is \",pred)"
   ]
  }
 ],
 "metadata": {
  "kernelspec": {
   "display_name": "Python 3",
   "language": "python",
   "name": "python3"
  },
  "language_info": {
   "codemirror_mode": {
    "name": "ipython",
    "version": 3
   },
   "file_extension": ".py",
   "mimetype": "text/x-python",
   "name": "python",
   "nbconvert_exporter": "python",
   "pygments_lexer": "ipython3",
   "version": "3.10.7"
  }
 },
 "nbformat": 4,
 "nbformat_minor": 2
}
