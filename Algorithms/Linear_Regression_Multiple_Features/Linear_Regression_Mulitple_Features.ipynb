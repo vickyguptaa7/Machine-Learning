{
 "cells": [
  {
   "cell_type": "code",
   "execution_count": 52,
   "metadata": {},
   "outputs": [],
   "source": [
    "# House Price Prediction using Linear Regression with Multiple Features\n",
    "\n",
    "# Hypothesis Function\n",
    "# htheta(x)=theta0*X0 + theta1*X1 + theta2*X2 + .... + thetan*Xn \n",
    "# htheta(x)=Summation(thetai * Xi) for i=0 to n\n",
    "# where X1, X2, X3, .... Xn are the features and X0 = 1 always\n",
    "# theta0, theta1, theta2, .... thetan are the parameters or weights \n",
    "# htheta(x) is the predicted value of y\n",
    "# y is the actual value of y\n",
    "\n",
    "# Loss Function\n",
    "# J(theta) = (1/2m) * summation(predicted - actual)^2 \n",
    "# J(theta) = (1/2m) * summation(htheta(x) - y)^2\n",
    "\n",
    "# Gradient Descent or Optimization Algorithm to minimize the loss function\n",
    "# theta(j) = theta(j) - alpha * (1/m) * summation(htheta(x) - y) * x(j)\n"
   ]
  },
  {
   "cell_type": "code",
   "execution_count": 53,
   "metadata": {},
   "outputs": [],
   "source": [
    "import numpy as np\n",
    "import pandas as pd\n",
    "from sklearn.datasets import make_regression\n",
    "from sklearn.model_selection import train_test_split\n",
    "import matplotlib.pyplot as plt"
   ]
  },
  {
   "cell_type": "code",
   "execution_count": 54,
   "metadata": {},
   "outputs": [
    {
     "name": "stdout",
     "output_type": "stream",
     "text": [
      "(500, 10) (500,)\n"
     ]
    }
   ],
   "source": [
    "# Step-1  Generate the data\n",
    "X, y = make_regression(n_samples=500, n_features=10,n_informative=5, noise=5, random_state=0)\n",
    "print(X.shape, y.shape)\n",
    "n_features = X.shape[1]"
   ]
  },
  {
   "cell_type": "code",
   "execution_count": 55,
   "metadata": {},
   "outputs": [
    {
     "data": {
      "text/html": [
       "<div>\n",
       "<style scoped>\n",
       "    .dataframe tbody tr th:only-of-type {\n",
       "        vertical-align: middle;\n",
       "    }\n",
       "\n",
       "    .dataframe tbody tr th {\n",
       "        vertical-align: top;\n",
       "    }\n",
       "\n",
       "    .dataframe thead th {\n",
       "        text-align: right;\n",
       "    }\n",
       "</style>\n",
       "<table border=\"1\" class=\"dataframe\">\n",
       "  <thead>\n",
       "    <tr style=\"text-align: right;\">\n",
       "      <th></th>\n",
       "      <th>0</th>\n",
       "      <th>1</th>\n",
       "      <th>2</th>\n",
       "      <th>3</th>\n",
       "      <th>4</th>\n",
       "      <th>5</th>\n",
       "      <th>6</th>\n",
       "      <th>7</th>\n",
       "      <th>8</th>\n",
       "      <th>9</th>\n",
       "    </tr>\n",
       "  </thead>\n",
       "  <tbody>\n",
       "    <tr>\n",
       "      <th>0</th>\n",
       "      <td>1.706468</td>\n",
       "      <td>1.511639</td>\n",
       "      <td>-0.000417</td>\n",
       "      <td>0.374155</td>\n",
       "      <td>0.073285</td>\n",
       "      <td>0.701783</td>\n",
       "      <td>0.409552</td>\n",
       "      <td>-0.461894</td>\n",
       "      <td>-0.626490</td>\n",
       "      <td>-0.799593</td>\n",
       "    </tr>\n",
       "    <tr>\n",
       "      <th>1</th>\n",
       "      <td>-1.616956</td>\n",
       "      <td>0.640132</td>\n",
       "      <td>-0.369182</td>\n",
       "      <td>-0.239379</td>\n",
       "      <td>-0.738031</td>\n",
       "      <td>-0.024326</td>\n",
       "      <td>1.099660</td>\n",
       "      <td>0.279925</td>\n",
       "      <td>-0.098150</td>\n",
       "      <td>0.655264</td>\n",
       "    </tr>\n",
       "    <tr>\n",
       "      <th>2</th>\n",
       "      <td>0.093953</td>\n",
       "      <td>-0.130107</td>\n",
       "      <td>0.929505</td>\n",
       "      <td>0.582225</td>\n",
       "      <td>-2.739677</td>\n",
       "      <td>0.943046</td>\n",
       "      <td>-2.094603</td>\n",
       "      <td>-0.569312</td>\n",
       "      <td>0.269904</td>\n",
       "      <td>0.123722</td>\n",
       "    </tr>\n",
       "    <tr>\n",
       "      <th>3</th>\n",
       "      <td>-1.542758</td>\n",
       "      <td>-0.789954</td>\n",
       "      <td>0.537035</td>\n",
       "      <td>-0.286835</td>\n",
       "      <td>-2.369623</td>\n",
       "      <td>-0.767332</td>\n",
       "      <td>1.634406</td>\n",
       "      <td>-0.260560</td>\n",
       "      <td>0.128957</td>\n",
       "      <td>0.571227</td>\n",
       "    </tr>\n",
       "    <tr>\n",
       "      <th>4</th>\n",
       "      <td>-0.101003</td>\n",
       "      <td>-2.231538</td>\n",
       "      <td>0.436187</td>\n",
       "      <td>1.571463</td>\n",
       "      <td>1.324868</td>\n",
       "      <td>-0.587375</td>\n",
       "      <td>1.077315</td>\n",
       "      <td>0.840648</td>\n",
       "      <td>0.261106</td>\n",
       "      <td>0.811090</td>\n",
       "    </tr>\n",
       "    <tr>\n",
       "      <th>5</th>\n",
       "      <td>0.802456</td>\n",
       "      <td>-0.268003</td>\n",
       "      <td>1.867559</td>\n",
       "      <td>0.906045</td>\n",
       "      <td>-0.155010</td>\n",
       "      <td>0.947252</td>\n",
       "      <td>-0.861226</td>\n",
       "      <td>0.614079</td>\n",
       "      <td>0.922207</td>\n",
       "      <td>1.910065</td>\n",
       "    </tr>\n",
       "    <tr>\n",
       "      <th>6</th>\n",
       "      <td>-0.171546</td>\n",
       "      <td>0.523277</td>\n",
       "      <td>-1.292857</td>\n",
       "      <td>0.267051</td>\n",
       "      <td>0.823504</td>\n",
       "      <td>0.771791</td>\n",
       "      <td>-0.039283</td>\n",
       "      <td>2.163236</td>\n",
       "      <td>1.336528</td>\n",
       "      <td>-1.168093</td>\n",
       "    </tr>\n",
       "    <tr>\n",
       "      <th>7</th>\n",
       "      <td>0.096004</td>\n",
       "      <td>-0.148766</td>\n",
       "      <td>1.587762</td>\n",
       "      <td>-0.643258</td>\n",
       "      <td>0.079122</td>\n",
       "      <td>-0.045113</td>\n",
       "      <td>-1.133593</td>\n",
       "      <td>0.850531</td>\n",
       "      <td>-0.839124</td>\n",
       "      <td>0.996760</td>\n",
       "    </tr>\n",
       "    <tr>\n",
       "      <th>8</th>\n",
       "      <td>0.883397</td>\n",
       "      <td>-0.715865</td>\n",
       "      <td>-0.772599</td>\n",
       "      <td>-0.283625</td>\n",
       "      <td>-0.076339</td>\n",
       "      <td>-1.300440</td>\n",
       "      <td>-2.327604</td>\n",
       "      <td>1.430557</td>\n",
       "      <td>-1.323409</td>\n",
       "      <td>-2.445227</td>\n",
       "    </tr>\n",
       "    <tr>\n",
       "      <th>9</th>\n",
       "      <td>1.833435</td>\n",
       "      <td>0.141807</td>\n",
       "      <td>-0.971171</td>\n",
       "      <td>1.426317</td>\n",
       "      <td>-0.477286</td>\n",
       "      <td>0.355704</td>\n",
       "      <td>2.488442</td>\n",
       "      <td>0.466380</td>\n",
       "      <td>-0.094393</td>\n",
       "      <td>1.695970</td>\n",
       "    </tr>\n",
       "  </tbody>\n",
       "</table>\n",
       "</div>"
      ],
      "text/plain": [
       "          0         1         2         3         4         5         6  \\\n",
       "0  1.706468  1.511639 -0.000417  0.374155  0.073285  0.701783  0.409552   \n",
       "1 -1.616956  0.640132 -0.369182 -0.239379 -0.738031 -0.024326  1.099660   \n",
       "2  0.093953 -0.130107  0.929505  0.582225 -2.739677  0.943046 -2.094603   \n",
       "3 -1.542758 -0.789954  0.537035 -0.286835 -2.369623 -0.767332  1.634406   \n",
       "4 -0.101003 -2.231538  0.436187  1.571463  1.324868 -0.587375  1.077315   \n",
       "5  0.802456 -0.268003  1.867559  0.906045 -0.155010  0.947252 -0.861226   \n",
       "6 -0.171546  0.523277 -1.292857  0.267051  0.823504  0.771791 -0.039283   \n",
       "7  0.096004 -0.148766  1.587762 -0.643258  0.079122 -0.045113 -1.133593   \n",
       "8  0.883397 -0.715865 -0.772599 -0.283625 -0.076339 -1.300440 -2.327604   \n",
       "9  1.833435  0.141807 -0.971171  1.426317 -0.477286  0.355704  2.488442   \n",
       "\n",
       "          7         8         9  \n",
       "0 -0.461894 -0.626490 -0.799593  \n",
       "1  0.279925 -0.098150  0.655264  \n",
       "2 -0.569312  0.269904  0.123722  \n",
       "3 -0.260560  0.128957  0.571227  \n",
       "4  0.840648  0.261106  0.811090  \n",
       "5  0.614079  0.922207  1.910065  \n",
       "6  2.163236  1.336528 -1.168093  \n",
       "7  0.850531 -0.839124  0.996760  \n",
       "8  1.430557 -1.323409 -2.445227  \n",
       "9  0.466380 -0.094393  1.695970  "
      ]
     },
     "execution_count": 55,
     "metadata": {},
     "output_type": "execute_result"
    }
   ],
   "source": [
    "pd.DataFrame(X).head(n=10)"
   ]
  },
  {
   "cell_type": "code",
   "execution_count": 56,
   "metadata": {},
   "outputs": [],
   "source": [
    "# Setp-2 Normalize the data\n",
    "def normalize(X):\n",
    "    # axis = 0 means column wise and axis = 1 means row wise\n",
    "    u=X.mean(axis=0)\n",
    "    std=X.std(axis=0)\n",
    "\n",
    "    return (X-u)/std;\n"
   ]
  },
  {
   "cell_type": "code",
   "execution_count": 57,
   "metadata": {},
   "outputs": [
    {
     "data": {
      "text/html": [
       "<div>\n",
       "<style scoped>\n",
       "    .dataframe tbody tr th:only-of-type {\n",
       "        vertical-align: middle;\n",
       "    }\n",
       "\n",
       "    .dataframe tbody tr th {\n",
       "        vertical-align: top;\n",
       "    }\n",
       "\n",
       "    .dataframe thead th {\n",
       "        text-align: right;\n",
       "    }\n",
       "</style>\n",
       "<table border=\"1\" class=\"dataframe\">\n",
       "  <thead>\n",
       "    <tr style=\"text-align: right;\">\n",
       "      <th></th>\n",
       "      <th>0</th>\n",
       "      <th>1</th>\n",
       "      <th>2</th>\n",
       "      <th>3</th>\n",
       "      <th>4</th>\n",
       "      <th>5</th>\n",
       "      <th>6</th>\n",
       "      <th>7</th>\n",
       "      <th>8</th>\n",
       "      <th>9</th>\n",
       "    </tr>\n",
       "  </thead>\n",
       "  <tbody>\n",
       "    <tr>\n",
       "      <th>0</th>\n",
       "      <td>1.764831</td>\n",
       "      <td>1.579606</td>\n",
       "      <td>0.093808</td>\n",
       "      <td>0.341546</td>\n",
       "      <td>0.103202</td>\n",
       "      <td>0.745205</td>\n",
       "      <td>0.421736</td>\n",
       "      <td>-0.461091</td>\n",
       "      <td>-0.710885</td>\n",
       "      <td>-0.761760</td>\n",
       "    </tr>\n",
       "    <tr>\n",
       "      <th>1</th>\n",
       "      <td>-1.612963</td>\n",
       "      <td>0.709920</td>\n",
       "      <td>-0.277540</td>\n",
       "      <td>-0.301827</td>\n",
       "      <td>-0.693297</td>\n",
       "      <td>-0.045695</td>\n",
       "      <td>1.116862</td>\n",
       "      <td>0.265971</td>\n",
       "      <td>-0.166048</td>\n",
       "      <td>0.714702</td>\n",
       "    </tr>\n",
       "    <tr>\n",
       "      <th>2</th>\n",
       "      <td>0.125936</td>\n",
       "      <td>-0.058708</td>\n",
       "      <td>1.030243</td>\n",
       "      <td>0.559735</td>\n",
       "      <td>-2.658385</td>\n",
       "      <td>1.007996</td>\n",
       "      <td>-2.100631</td>\n",
       "      <td>-0.566372</td>\n",
       "      <td>0.213499</td>\n",
       "      <td>0.175267</td>\n",
       "    </tr>\n",
       "    <tr>\n",
       "      <th>3</th>\n",
       "      <td>-1.537551</td>\n",
       "      <td>-0.717175</td>\n",
       "      <td>0.635024</td>\n",
       "      <td>-0.351591</td>\n",
       "      <td>-2.295090</td>\n",
       "      <td>-0.855000</td>\n",
       "      <td>1.655498</td>\n",
       "      <td>-0.263762</td>\n",
       "      <td>0.068151</td>\n",
       "      <td>0.629417</td>\n",
       "    </tr>\n",
       "    <tr>\n",
       "      <th>4</th>\n",
       "      <td>-0.072209</td>\n",
       "      <td>-2.155744</td>\n",
       "      <td>0.533470</td>\n",
       "      <td>1.597083</td>\n",
       "      <td>1.331926</td>\n",
       "      <td>-0.658985</td>\n",
       "      <td>1.094355</td>\n",
       "      <td>0.815541</td>\n",
       "      <td>0.204426</td>\n",
       "      <td>0.872842</td>\n",
       "    </tr>\n",
       "  </tbody>\n",
       "</table>\n",
       "</div>"
      ],
      "text/plain": [
       "          0         1         2         3         4         5         6  \\\n",
       "0  1.764831  1.579606  0.093808  0.341546  0.103202  0.745205  0.421736   \n",
       "1 -1.612963  0.709920 -0.277540 -0.301827 -0.693297 -0.045695  1.116862   \n",
       "2  0.125936 -0.058708  1.030243  0.559735 -2.658385  1.007996 -2.100631   \n",
       "3 -1.537551 -0.717175  0.635024 -0.351591 -2.295090 -0.855000  1.655498   \n",
       "4 -0.072209 -2.155744  0.533470  1.597083  1.331926 -0.658985  1.094355   \n",
       "\n",
       "          7         8         9  \n",
       "0 -0.461091 -0.710885 -0.761760  \n",
       "1  0.265971 -0.166048  0.714702  \n",
       "2 -0.566372  0.213499  0.175267  \n",
       "3 -0.263762  0.068151  0.629417  \n",
       "4  0.815541  0.204426  0.872842  "
      ]
     },
     "execution_count": 57,
     "metadata": {},
     "output_type": "execute_result"
    }
   ],
   "source": [
    "X=normalize(X)\n",
    "pd.DataFrame(X).head()"
   ]
  },
  {
   "cell_type": "code",
   "execution_count": 58,
   "metadata": {},
   "outputs": [
    {
     "data": {
      "image/png": "[encoded data removed]",
      "text/plain": [
       "<Figure size 640x480 with 10 Axes>"
      ]
     },
     "metadata": {},
     "output_type": "display_data"
    }
   ],
   "source": [
    "# Visulaize y as function of each feature\n",
    "for f in range(0,10):\n",
    "    plt.subplot(4,3,f+1);\n",
    "    plt.scatter(X[:,f],y);\n",
    "\n",
    "plt.show()"
   ]
  },
  {
   "cell_type": "code",
   "execution_count": 59,
   "metadata": {},
   "outputs": [],
   "source": [
    "# Step-4 Train Test Split\n",
    "# XT -> Training Data, Xt -> Testing Data\n",
    "# yT -> Training Data, yt -> Testing Data"
   ]
  },
  {
   "cell_type": "code",
   "execution_count": 60,
   "metadata": {},
   "outputs": [
    {
     "name": "stdout",
     "output_type": "stream",
     "text": [
      "(350, 10) (150, 10)\n",
      "(350,) (150,)\n"
     ]
    }
   ],
   "source": [
    "XT,Xt,yT,yt=train_test_split(X,y,test_size=0.3,shuffle=True,random_state=0)\n",
    "print(XT.shape, Xt.shape)\n",
    "print(yT.shape, yt.shape)"
   ]
  },
  {
   "cell_type": "code",
   "execution_count": 61,
   "metadata": {},
   "outputs": [],
   "source": [
    "# Step-5 Modelling / Linear Regression with Multiple Features\n",
    "\n",
    "def preprocess(X):\n",
    "    # add a column of ones in X for X0\n",
    "    if(X.shape[1]==n_features):\n",
    "        m=X.shape[0];\n",
    "        ones=np.ones((m,1))\n",
    "        X=np.hstack((ones,X))\n",
    "    return X"
   ]
  },
  {
   "cell_type": "code",
   "execution_count": 62,
   "metadata": {},
   "outputs": [],
   "source": [
    "# X -> m x n matrix \n",
    "# theta -> n x 1 matrix\n",
    "# htheta(x) = X * theta\n",
    "# htheta(x) -> m x 1 matrix\n",
    "# return m x 1 matrix\n",
    "# fast/vectorized implementation -> faster than loops \n",
    "def hypothesis(X,theta):\n",
    "    return np.dot(X,theta);\n",
    "\n",
    "# ypredicted-> m x 1 matrix\n",
    "# we are avoiding loops here and using numpy vectorized implementation\n",
    "def loss(X,y,theta):\n",
    "    ypredicted=hypothesis(X,theta);\n",
    "    error=np.mean((ypredicted-y)**2);\n",
    "    return error;\n",
    "\n",
    "def gradient(X,y,theta):\n",
    "    ypredicted=hypothesis(X,theta);\n",
    "    # X.T-> is transpose of X\n",
    "    grad=np.dot(X.T,(ypredicted-y));\n",
    "    m=X.shape[0];\n",
    "    return grad/m;\n",
    "\n",
    "def train(X,y,learning_rate=0.1,max_iters=100):\n",
    "    n=X.shape[1];\n",
    "    theta=np.random.randn(n);\n",
    "\n",
    "    error_list=[];\n",
    "\n",
    "    for i in range(max_iters):\n",
    "        error=loss(X,y,theta);\n",
    "        error_list.append(error);\n",
    "        grad=gradient(X,y,theta);\n",
    "        theta=theta-learning_rate*grad;\n",
    "    \n",
    "    plt.plot(error_list);\n",
    "    return theta;\n"
   ]
  },
  {
   "cell_type": "code",
   "execution_count": 63,
   "metadata": {},
   "outputs": [
    {
     "name": "stdout",
     "output_type": "stream",
     "text": [
      "[-2.03075870e-01  6.10120062e+01  1.02898792e+01  6.33906528e+01\n",
      "  9.80595940e-03 -2.62359921e-01  4.06190370e+01  1.41531301e-02\n",
      "  6.53832028e-02  2.50531312e+01]\n"
     ]
    },
    {
     "data": {
      "image/png": "[encoded data removed]",
      "text/plain": [
       "<Figure size 640x480 with 1 Axes>"
      ]
     },
     "metadata": {},
     "output_type": "display_data"
    }
   ],
   "source": [
    "theta=train(XT,yT);\n",
    "print(theta)"
   ]
  },
  {
   "cell_type": "code",
   "execution_count": 67,
   "metadata": {},
   "outputs": [],
   "source": [
    "def r2Score(y,ypredicted):\n",
    "    ymean=y.mean();\n",
    "    num=np.sum((y-ypredicted)**2);\n",
    "    denom=np.sum((y-ymean)**2);\n",
    "    return (1-num/denom)*100;"
   ]
  },
  {
   "cell_type": "code",
   "execution_count": 68,
   "metadata": {},
   "outputs": [],
   "source": [
    "yp= hypothesis(Xt,theta);"
   ]
  },
  {
   "cell_type": "code",
   "execution_count": 69,
   "metadata": {},
   "outputs": [
    {
     "data": {
      "text/plain": [
       "99.5938534590823"
      ]
     },
     "execution_count": 69,
     "metadata": {},
     "output_type": "execute_result"
    }
   ],
   "source": [
    "r2Score(yt,yp)"
   ]
  },
  {
   "cell_type": "code",
   "execution_count": 71,
   "metadata": {},
   "outputs": [],
   "source": [
    "# Linear Regression using sklearn\n",
    "from sklearn.linear_model import LinearRegression"
   ]
  },
  {
   "cell_type": "code",
   "execution_count": 72,
   "metadata": {},
   "outputs": [],
   "source": [
    "model=LinearRegression();\n",
    "model.fit(XT,yT);"
   ]
  },
  {
   "cell_type": "code",
   "execution_count": 73,
   "metadata": {},
   "outputs": [
    {
     "data": {
      "text/plain": [
       "(150,)"
      ]
     },
     "execution_count": 73,
     "metadata": {},
     "output_type": "execute_result"
    }
   ],
   "source": [
    "yp=model.predict(Xt);\n",
    "yp.shape"
   ]
  },
  {
   "cell_type": "code",
   "execution_count": 75,
   "metadata": {},
   "outputs": [
    {
     "name": "stdout",
     "output_type": "stream",
     "text": [
      "0.9974543064114684\n"
     ]
    }
   ],
   "source": [
    "print(model.score(Xt,yt));"
   ]
  },
  {
   "cell_type": "code",
   "execution_count": 76,
   "metadata": {},
   "outputs": [
    {
     "data": {
      "text/plain": [
       "array([-2.67139138e-01,  6.08546667e+01,  1.03920539e+01,  6.35271174e+01,\n",
       "       -6.76401305e-03, -1.99336636e-01,  4.08423237e+01,  1.13822148e-02,\n",
       "        1.90613919e-01,  2.48661492e+01])"
      ]
     },
     "execution_count": 76,
     "metadata": {},
     "output_type": "execute_result"
    }
   ],
   "source": [
    "# theta0 theta1 theta2 ... thetan\n",
    "model.coef_"
   ]
  },
  {
   "cell_type": "code",
   "execution_count": 77,
   "metadata": {},
   "outputs": [
    {
     "data": {
      "text/plain": [
       "-3.8094617538364064"
      ]
     },
     "execution_count": 77,
     "metadata": {},
     "output_type": "execute_result"
    }
   ],
   "source": [
    "model.intercept_"
   ]
  }
 ],
 "metadata": {
  "kernelspec": {
   "display_name": "Python 3",
   "language": "python",
   "name": "python3"
  },
  "language_info": {
   "codemirror_mode": {
    "name": "ipython",
    "version": 3
   },
   "file_extension": ".py",
   "mimetype": "text/x-python",
   "name": "python",
   "nbconvert_exporter": "python",
   "pygments_lexer": "ipython3",
   "version": "3.10.7"
  }
 },
 "nbformat": 4,
 "nbformat_minor": 2
}
